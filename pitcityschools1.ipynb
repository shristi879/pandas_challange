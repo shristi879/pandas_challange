{
 "cells": [
  {
   "cell_type": "code",
   "execution_count": 14,
   "metadata": {},
   "outputs": [],
   "source": [
    "# Dependencies and Setup\n",
    "import pandas as pd\n",
    "import numpy as np\n",
    "import os"
   ]
  },
  {
   "cell_type": "code",
   "execution_count": 16,
   "metadata": {},
   "outputs": [
    {
     "data": {
      "text/html": [
       "<div>\n",
       "<style scoped>\n",
       "    .dataframe tbody tr th:only-of-type {\n",
       "        vertical-align: middle;\n",
       "    }\n",
       "\n",
       "    .dataframe tbody tr th {\n",
       "        vertical-align: top;\n",
       "    }\n",
       "\n",
       "    .dataframe thead th {\n",
       "        text-align: right;\n",
       "    }\n",
       "</style>\n",
       "<table border=\"1\" class=\"dataframe\">\n",
       "  <thead>\n",
       "    <tr style=\"text-align: right;\">\n",
       "      <th></th>\n",
       "      <th>Student ID</th>\n",
       "      <th>student_name</th>\n",
       "      <th>gender</th>\n",
       "      <th>year</th>\n",
       "      <th>school_name</th>\n",
       "      <th>reading_score</th>\n",
       "      <th>maths_score</th>\n",
       "      <th>School ID</th>\n",
       "      <th>type</th>\n",
       "      <th>size</th>\n",
       "      <th>budget</th>\n",
       "    </tr>\n",
       "  </thead>\n",
       "  <tbody>\n",
       "    <tr>\n",
       "      <th>0</th>\n",
       "      <td>0</td>\n",
       "      <td>Paul Bradley</td>\n",
       "      <td>M</td>\n",
       "      <td>9</td>\n",
       "      <td>Huang High School</td>\n",
       "      <td>96</td>\n",
       "      <td>94</td>\n",
       "      <td>0</td>\n",
       "      <td>Government</td>\n",
       "      <td>2917</td>\n",
       "      <td>1910635</td>\n",
       "    </tr>\n",
       "    <tr>\n",
       "      <th>1</th>\n",
       "      <td>1</td>\n",
       "      <td>Victor Smith</td>\n",
       "      <td>M</td>\n",
       "      <td>12</td>\n",
       "      <td>Huang High School</td>\n",
       "      <td>90</td>\n",
       "      <td>43</td>\n",
       "      <td>0</td>\n",
       "      <td>Government</td>\n",
       "      <td>2917</td>\n",
       "      <td>1910635</td>\n",
       "    </tr>\n",
       "    <tr>\n",
       "      <th>2</th>\n",
       "      <td>2</td>\n",
       "      <td>Kevin Rodriguez</td>\n",
       "      <td>M</td>\n",
       "      <td>12</td>\n",
       "      <td>Huang High School</td>\n",
       "      <td>41</td>\n",
       "      <td>76</td>\n",
       "      <td>0</td>\n",
       "      <td>Government</td>\n",
       "      <td>2917</td>\n",
       "      <td>1910635</td>\n",
       "    </tr>\n",
       "    <tr>\n",
       "      <th>3</th>\n",
       "      <td>3</td>\n",
       "      <td>Richard Scott</td>\n",
       "      <td>M</td>\n",
       "      <td>12</td>\n",
       "      <td>Huang High School</td>\n",
       "      <td>89</td>\n",
       "      <td>86</td>\n",
       "      <td>0</td>\n",
       "      <td>Government</td>\n",
       "      <td>2917</td>\n",
       "      <td>1910635</td>\n",
       "    </tr>\n",
       "    <tr>\n",
       "      <th>4</th>\n",
       "      <td>4</td>\n",
       "      <td>Bonnie Ray</td>\n",
       "      <td>F</td>\n",
       "      <td>9</td>\n",
       "      <td>Huang High School</td>\n",
       "      <td>87</td>\n",
       "      <td>69</td>\n",
       "      <td>0</td>\n",
       "      <td>Government</td>\n",
       "      <td>2917</td>\n",
       "      <td>1910635</td>\n",
       "    </tr>\n",
       "  </tbody>\n",
       "</table>\n",
       "</div>"
      ],
      "text/plain": [
       "   Student ID     student_name gender  year        school_name  reading_score  \\\n",
       "0           0     Paul Bradley      M     9  Huang High School             96   \n",
       "1           1     Victor Smith      M    12  Huang High School             90   \n",
       "2           2  Kevin Rodriguez      M    12  Huang High School             41   \n",
       "3           3    Richard Scott      M    12  Huang High School             89   \n",
       "4           4       Bonnie Ray      F     9  Huang High School             87   \n",
       "\n",
       "   maths_score  School ID        type  size   budget  \n",
       "0           94          0  Government  2917  1910635  \n",
       "1           43          0  Government  2917  1910635  \n",
       "2           76          0  Government  2917  1910635  \n",
       "3           86          0  Government  2917  1910635  \n",
       "4           69          0  Government  2917  1910635  "
      ]
     },
     "execution_count": 16,
     "metadata": {},
     "output_type": "execute_result"
    }
   ],
   "source": [
    "# File to Load\n",
    "school_datafile = os.path.join('..','Resources', 'schools_complete.csv')\n",
    "student_datafile = os.path.join('..','Resources', 'students_complete.csv')\n",
    "\n",
    "# Read School and Student Data File and store into Pandas DataFrames\n",
    "school_data = pd.read_csv(school_datafile)\n",
    "student_data = pd.read_csv(student_datafile)\n",
    "\n",
    "# Combine the data into a single dataset.  \n",
    "school_data_complete = pd.merge(student_data, school_data, how=\"left\", on=[\"school_name\", \"school_name\"])\n",
    "\n",
    "# Present dataframe\n",
    "school_data_complete.head()"
   ]
  },
  {
   "cell_type": "code",
   "execution_count": 17,
   "metadata": {},
   "outputs": [
    {
     "name": "stdout",
     "output_type": "stream",
     "text": [
      "15\n"
     ]
    }
   ],
   "source": [
    "# idenfity schools\n",
    "total_schools = len(school_data_complete[\"school_name\"].unique())\n",
    "print(total_schools)"
   ]
  },
  {
   "cell_type": "code",
   "execution_count": 18,
   "metadata": {},
   "outputs": [
    {
     "name": "stdout",
     "output_type": "stream",
     "text": [
      "39170\n"
     ]
    }
   ],
   "source": [
    "# count students\n",
    "# total_students = len(school_data_complete[\"size\"])\n",
    "#len(school_data_complete)\n",
    "total_students = school_data_complete[\"student_name\"].count()\n",
    "print(total_students)"
   ]
  },
  {
   "cell_type": "code",
   "execution_count": 19,
   "metadata": {},
   "outputs": [
    {
     "name": "stdout",
     "output_type": "stream",
     "text": [
      "24649428\n"
     ]
    }
   ],
   "source": [
    "# total budget - use read file 'school_data' to total budget from school file only             \n",
    "total_budget = (school_data)[\"budget\"].sum()\n",
    "#school_data_complete.budget.count()\n",
    "print(total_budget)"
   ]
  },
  {
   "cell_type": "code",
   "execution_count": 20,
   "metadata": {},
   "outputs": [
    {
     "name": "stdout",
     "output_type": "stream",
     "text": [
      "70.33819249425581\n"
     ]
    }
   ],
   "source": [
    "# ave math score\n",
    "ave_math = (school_data_complete)[\"maths_score\"].mean()\n",
    "print(ave_math)"
   ]
  },
  {
   "cell_type": "code",
   "execution_count": 21,
   "metadata": {},
   "outputs": [
    {
     "name": "stdout",
     "output_type": "stream",
     "text": [
      "69.98013786060761\n"
     ]
    }
   ],
   "source": [
    "# ave reading score\n",
    "ave_reading = (school_data_complete[\"reading_score\"]).mean()\n",
    "\n",
    "print(ave_reading)"
   ]
  },
  {
   "cell_type": "code",
   "execution_count": 22,
   "metadata": {},
   "outputs": [],
   "source": [
    "# percentage of students with a passing math score (70 or greater)   \n",
    "\n",
    "#Number of students who passed\n",
    "percent_pass_math_df = school_data_complete.loc[school_data_complete['maths_score']>=70,:]\n",
    "percent_pass_math_df\n",
    "\n",
    "#Get the percentage\n",
    "percent_pass_math = len(percent_pass_math_df)/len(school_data_complete)*100\n",
    "#percent_pass_math"
   ]
  },
  {
   "cell_type": "code",
   "execution_count": 23,
   "metadata": {},
   "outputs": [],
   "source": [
    "# percentage of students with a passing reading score (70 or greater)\n",
    "\n",
    "#Number of students who passed\n",
    "percent_pass_reading_df= school_data_complete.loc[school_data_complete['reading_score']>=70,:]\n",
    "percent_pass_reading_df\n",
    "\n",
    "#Get the percentage\n",
    "percent_pass_reading = len(percent_pass_reading_df)/len(school_data_complete)*100\n",
    "#percent_pass_reading"
   ]
  },
  {
   "cell_type": "code",
   "execution_count": 24,
   "metadata": {},
   "outputs": [
    {
     "name": "stdout",
     "output_type": "stream",
     "text": [
      "26.316058207812098\n"
     ]
    }
   ],
   "source": [
    "# percentage of students who passed math and reading\n",
    "# percent_pass_both = (len(percent_pass_math)/len(school_data_complete)) * (len(percent_pass_reading)/len(school_data_complete))*100\n",
    "percent_pass_both = school_data_complete.loc[(school_data_complete['reading_score']>=70) & (school_data_complete['maths_score']>=70), 'Student ID'].count()/len(school_data_complete)*100\n",
    "print(percent_pass_both)"
   ]
  },
  {
   "cell_type": "code",
   "execution_count": 25,
   "metadata": {},
   "outputs": [],
   "source": [
    "#school_data_complete.loc[(school_data_complete['reading_score']>=70) & (school_data_complete['maths_score']>=70),:]"
   ]
  },
  {
   "cell_type": "code",
   "execution_count": 28,
   "metadata": {},
   "outputs": [
    {
     "data": {
      "text/html": [
       "<div>\n",
       "<style scoped>\n",
       "    .dataframe tbody tr th:only-of-type {\n",
       "        vertical-align: middle;\n",
       "    }\n",
       "\n",
       "    .dataframe tbody tr th {\n",
       "        vertical-align: top;\n",
       "    }\n",
       "\n",
       "    .dataframe thead th {\n",
       "        text-align: right;\n",
       "    }\n",
       "</style>\n",
       "<table border=\"1\" class=\"dataframe\">\n",
       "  <thead>\n",
       "    <tr style=\"text-align: right;\">\n",
       "      <th></th>\n",
       "      <th>Total Schools</th>\n",
       "      <th>Total Students</th>\n",
       "      <th>Total Budget</th>\n",
       "      <th>Average Math Score</th>\n",
       "      <th>Average Reading Score</th>\n",
       "      <th>% Passing Math</th>\n",
       "      <th>% Passing Reading</th>\n",
       "      <th>% Overall Passing</th>\n",
       "    </tr>\n",
       "  </thead>\n",
       "  <tbody>\n",
       "    <tr>\n",
       "      <th>0</th>\n",
       "      <td>15</td>\n",
       "      <td>39170</td>\n",
       "      <td>24649428</td>\n",
       "      <td>70.338192</td>\n",
       "      <td>69.980138</td>\n",
       "      <td>51.460301</td>\n",
       "      <td>50.814399</td>\n",
       "      <td>26.316058</td>\n",
       "    </tr>\n",
       "  </tbody>\n",
       "</table>\n",
       "</div>"
      ],
      "text/plain": [
       "   Total Schools  Total Students  Total Budget  Average Math Score  \\\n",
       "0             15           39170      24649428           70.338192   \n",
       "\n",
       "   Average Reading Score  % Passing Math  % Passing Reading  % Overall Passing  \n",
       "0              69.980138       51.460301          50.814399          26.316058  "
      ]
     },
     "execution_count": 28,
     "metadata": {},
     "output_type": "execute_result"
    }
   ],
   "source": [
    "# create data frame                                                  # refer to  GoodReadsSummary.ipynb \n",
    "\n",
    "district_summary = pd.DataFrame({\"Total Schools\": [total_schools],\n",
    "                \"Total Students\": [total_students],\n",
    "                \"Total Budget\": [total_budget],\n",
    "                \"Average Math Score\": [ave_math],\n",
    "                \"Average Reading Score\": [ave_reading],\n",
    "                \"% Passing Math\": [percent_pass_math],\n",
    "                \"% Passing Reading\": [percent_pass_reading],\n",
    "                \"% Overall Passing\": [percent_pass_both]})\n",
    "\n",
    "district_summary"
   ]
  },
  {
   "cell_type": "code",
   "execution_count": 29,
   "metadata": {},
   "outputs": [
    {
     "ename": "NameError",
     "evalue": "name 'grouped_schools_total_students' is not defined",
     "output_type": "error",
     "traceback": [
      "\u001b[1;31m---------------------------------------------------------------------------\u001b[0m",
      "\u001b[1;31mNameError\u001b[0m                                 Traceback (most recent call last)",
      "\u001b[1;32m~\\AppData\\Local\\Temp\\ipykernel_18024\\4173358487.py\u001b[0m in \u001b[0;36m<module>\u001b[1;34m\u001b[0m\n\u001b[0;32m      4\u001b[0m \u001b[1;31m# In order to be visualized, a data function must be used...\u001b[0m\u001b[1;33m\u001b[0m\u001b[1;33m\u001b[0m\u001b[0m\n\u001b[0;32m      5\u001b[0m \u001b[0mgrouped_schools_df\u001b[0m\u001b[1;33m\u001b[0m\u001b[1;33m\u001b[0m\u001b[0m\n\u001b[1;32m----> 6\u001b[1;33m \u001b[0mprint\u001b[0m\u001b[1;33m(\u001b[0m\u001b[0mgrouped_schools_total_students\u001b[0m\u001b[1;33m)\u001b[0m\u001b[1;33m\u001b[0m\u001b[1;33m\u001b[0m\u001b[0m\n\u001b[0m",
      "\u001b[1;31mNameError\u001b[0m: name 'grouped_schools_total_students' is not defined"
     ]
    }
   ],
   "source": [
    "# group school summary by school\n",
    "grouped_schools_df = school_data_complete.set_index(\"school_name\").groupby([\"school_name\"])\n",
    "\n",
    "# In order to be visualized, a data function must be used...\n",
    "grouped_schools_df\n",
    "print(grouped_schools_total_students)"
   ]
  },
  {
   "cell_type": "code",
   "execution_count": 30,
   "metadata": {},
   "outputs": [
    {
     "data": {
      "text/plain": [
       "school_name\n",
       "Huang High School         Government\n",
       "Figueroa High School      Government\n",
       "Shelton High School      Independent\n",
       "Hernandez High School     Government\n",
       "Griffin High School      Independent\n",
       "Wilson High School       Independent\n",
       "Cabrera High School      Independent\n",
       "Bailey High School        Government\n",
       "Holden High School       Independent\n",
       "Pena High School         Independent\n",
       "Wright High School       Independent\n",
       "Rodriguez High School     Government\n",
       "Johnson High School       Government\n",
       "Ford High School          Government\n",
       "Thomas High School       Independent\n",
       "Name: type, dtype: object"
      ]
     },
     "execution_count": 30,
     "metadata": {},
     "output_type": "execute_result"
    }
   ],
   "source": [
    "# school type                                                \n",
    "grouped_schools_type = school_data.set_index(\"school_name\")[\"type\"]  \n",
    "grouped_schools_type"
   ]
  },
  {
   "cell_type": "code",
   "execution_count": 31,
   "metadata": {},
   "outputs": [
    {
     "name": "stdout",
     "output_type": "stream",
     "text": [
      "school_name\n",
      "Bailey High School       4976\n",
      "Cabrera High School      1858\n",
      "Figueroa High School     2949\n",
      "Ford High School         2739\n",
      "Griffin High School      1468\n",
      "Hernandez High School    4635\n",
      "Holden High School        427\n",
      "Huang High School        2917\n",
      "Johnson High School      4761\n",
      "Pena High School          962\n",
      "Rodriguez High School    3999\n",
      "Shelton High School      1761\n",
      "Thomas High School       1635\n",
      "Wilson High School       2283\n",
      "Wright High School       1800\n",
      "Name: Student ID, dtype: int64\n"
     ]
    }
   ],
   "source": [
    "# calcualte total number of students in each school  \n",
    "grouped_schools_total_students = grouped_schools_df[\"Student ID\"].count()\n",
    "print(grouped_schools_total_students)"
   ]
  },
  {
   "cell_type": "code",
   "execution_count": 32,
   "metadata": {},
   "outputs": [
    {
     "name": "stdout",
     "output_type": "stream",
     "text": [
      "school_name\n",
      "Huang High School        1910635\n",
      "Figueroa High School     1884411\n",
      "Shelton High School      1056600\n",
      "Hernandez High School    3022020\n",
      "Griffin High School       917500\n",
      "Wilson High School       1319574\n",
      "Cabrera High School      1081356\n",
      "Bailey High School       3124928\n",
      "Holden High School        248087\n",
      "Pena High School          585858\n",
      "Wright High School       1049400\n",
      "Rodriguez High School    2547363\n",
      "Johnson High School      3094650\n",
      "Ford High School         1763916\n",
      "Thomas High School       1043130\n",
      "Name: budget, dtype: int64\n"
     ]
    }
   ],
   "source": [
    "# calculate total school budget\n",
    "grouped_schools_budget = school_data.set_index(\"school_name\")[\"budget\"]\n",
    "print(grouped_schools_budget)"
   ]
  },
  {
   "cell_type": "code",
   "execution_count": 33,
   "metadata": {},
   "outputs": [
    {
     "name": "stdout",
     "output_type": "stream",
     "text": [
      "school_name\n",
      "Bailey High School       628.0\n",
      "Cabrera High School      582.0\n",
      "Figueroa High School     639.0\n",
      "Ford High School         644.0\n",
      "Griffin High School      625.0\n",
      "Hernandez High School    652.0\n",
      "Holden High School       581.0\n",
      "Huang High School        655.0\n",
      "Johnson High School      650.0\n",
      "Pena High School         609.0\n",
      "Rodriguez High School    637.0\n",
      "Shelton High School      600.0\n",
      "Thomas High School       638.0\n",
      "Wilson High School       578.0\n",
      "Wright High School       583.0\n",
      "dtype: float64\n"
     ]
    }
   ],
   "source": [
    "# calculate budget per student\n",
    "grouped_schools_per_student_budget = grouped_schools_budget / grouped_schools_total_students\n",
    "print(grouped_schools_per_student_budget)"
   ]
  },
  {
   "cell_type": "code",
   "execution_count": 34,
   "metadata": {},
   "outputs": [
    {
     "name": "stdout",
     "output_type": "stream",
     "text": [
      "school_name\n",
      "Bailey High School       72.352894\n",
      "Cabrera High School      71.657158\n",
      "Figueroa High School     68.698542\n",
      "Ford High School         69.091274\n",
      "Griffin High School      71.788147\n",
      "Hernandez High School    68.874865\n",
      "Holden High School       72.583138\n",
      "Huang High School        68.935207\n",
      "Johnson High School      68.843100\n",
      "Pena High School         72.088358\n",
      "Rodriguez High School    72.047762\n",
      "Shelton High School      72.034072\n",
      "Thomas High School       69.581651\n",
      "Wilson High School       69.170828\n",
      "Wright High School       72.047222\n",
      "Name: maths_score, dtype: float64\n"
     ]
    }
   ],
   "source": [
    "# average math score per school\n",
    "grouped_schools_ave_math = grouped_schools_df[\"maths_score\"].mean()\n",
    "\n",
    "print(grouped_schools_ave_math)"
   ]
  },
  {
   "cell_type": "code",
   "execution_count": 35,
   "metadata": {},
   "outputs": [
    {
     "name": "stdout",
     "output_type": "stream",
     "text": [
      "school_name\n",
      "Bailey High School       71.008842\n",
      "Cabrera High School      71.359526\n",
      "Figueroa High School     69.077993\n",
      "Ford High School         69.572472\n",
      "Griffin High School      71.245232\n",
      "Hernandez High School    69.186408\n",
      "Holden High School       71.660422\n",
      "Huang High School        68.910525\n",
      "Johnson High School      69.039277\n",
      "Pena High School         71.613306\n",
      "Rodriguez High School    70.935984\n",
      "Shelton High School      70.257808\n",
      "Thomas High School       69.768807\n",
      "Wilson High School       68.876916\n",
      "Wright High School       70.969444\n",
      "Name: reading_score, dtype: float64\n"
     ]
    }
   ],
   "source": [
    "# average reading score per school\n",
    "\n",
    "grouped_schools_ave_reading = grouped_schools_df[\"reading_score\"].mean()\n",
    "print(grouped_schools_ave_reading)"
   ]
  },
  {
   "cell_type": "code",
   "execution_count": 36,
   "metadata": {},
   "outputs": [
    {
     "name": "stdout",
     "output_type": "stream",
     "text": [
      "school_name\n",
      "Bailey High School       0.552251\n",
      "Cabrera High School      0.531755\n",
      "Figueroa High School     0.476772\n",
      "Ford High School         0.489595\n",
      "Griffin High School      0.547003\n",
      "Hernandez High School    0.492557\n",
      "Holden High School       0.571429\n",
      "Huang High School        0.489201\n",
      "Johnson High School      0.487713\n",
      "Pena High School         0.554054\n",
      "Rodriguez High School    0.545136\n",
      "Shelton High School      0.549688\n",
      "Thomas High School       0.493578\n",
      "Wilson High School       0.493649\n",
      "Wright High School       0.544444\n",
      "Name: Student ID, dtype: float64\n"
     ]
    }
   ],
   "source": [
    "# percent passing math\n",
    "\n",
    "# percent_pass_math = school_data_complete[school_data_complete[\"math_score\"] >= 70].groupby(\"school_name\")[\"Student ID\"].count()/grouped_schools_total_students \n",
    "# print(percent_pass_math)\n",
    "\n",
    "grouped_schools_percent_pass_math = school_data_complete[school_data_complete[\"maths_score\"] >= 70].groupby(\"school_name\")[\"Student ID\"].count()/grouped_schools_total_students \n",
    "print(grouped_schools_percent_pass_math)"
   ]
  },
  {
   "cell_type": "code",
   "execution_count": 37,
   "metadata": {},
   "outputs": [
    {
     "name": "stdout",
     "output_type": "stream",
     "text": [
      "school_name\n",
      "Bailey High School       0.524518\n",
      "Cabrera High School      0.532831\n",
      "Figueroa High School     0.491692\n",
      "Ford High School         0.504929\n",
      "Griffin High School      0.541553\n",
      "Hernandez High School    0.494714\n",
      "Holden High School       0.555035\n",
      "Huang High School        0.497772\n",
      "Johnson High School      0.486032\n",
      "Pena High School         0.550936\n",
      "Rodriguez High School    0.527882\n",
      "Shelton High School      0.492902\n",
      "Thomas High School       0.507034\n",
      "Wilson High School       0.483136\n",
      "Wright High School       0.521667\n",
      "Name: Student ID, dtype: float64\n"
     ]
    }
   ],
   "source": [
    "# percent passing reading\n",
    "# percent_pass_reading = school_data_complete[school_data_complete[\"reading_score\"] >= 70].groupby(\"school_name\")[\"Student ID\"].count()/grouped_schools_total_students \n",
    "# print(percent_pass_reading)\n",
    "\n",
    "grouped_schools_percent_pass_reading = school_data_complete[school_data_complete[\"reading_score\"] >= 70].groupby(\"school_name\")[\"Student ID\"].count()/grouped_schools_total_students \n",
    "print(grouped_schools_percent_pass_reading)"
   ]
  },
  {
   "cell_type": "code",
   "execution_count": 38,
   "metadata": {},
   "outputs": [
    {
     "name": "stdout",
     "output_type": "stream",
     "text": [
      "261492.42688257733\n"
     ]
    }
   ],
   "source": [
    "# percent passing overall\n",
    "grouped_schools_percent_pass_overall = (percent_pass_math * percent_pass_reading)*100\n",
    "print(grouped_schools_percent_pass_overall)"
   ]
  },
  {
   "cell_type": "code",
   "execution_count": 39,
   "metadata": {},
   "outputs": [
    {
     "data": {
      "text/html": [
       "<div>\n",
       "<style scoped>\n",
       "    .dataframe tbody tr th:only-of-type {\n",
       "        vertical-align: middle;\n",
       "    }\n",
       "\n",
       "    .dataframe tbody tr th {\n",
       "        vertical-align: top;\n",
       "    }\n",
       "\n",
       "    .dataframe thead th {\n",
       "        text-align: right;\n",
       "    }\n",
       "</style>\n",
       "<table border=\"1\" class=\"dataframe\">\n",
       "  <thead>\n",
       "    <tr style=\"text-align: right;\">\n",
       "      <th></th>\n",
       "      <th>School Type</th>\n",
       "      <th>Total Students</th>\n",
       "      <th>Total Budget</th>\n",
       "      <th>Toal Budget Per Student</th>\n",
       "      <th>Average Math Score</th>\n",
       "      <th>Average Reading Score</th>\n",
       "      <th>% Passing Math</th>\n",
       "      <th>% Passing Reading</th>\n",
       "      <th>% Overall Passing</th>\n",
       "    </tr>\n",
       "    <tr>\n",
       "      <th>school_name</th>\n",
       "      <th></th>\n",
       "      <th></th>\n",
       "      <th></th>\n",
       "      <th></th>\n",
       "      <th></th>\n",
       "      <th></th>\n",
       "      <th></th>\n",
       "      <th></th>\n",
       "      <th></th>\n",
       "    </tr>\n",
       "  </thead>\n",
       "  <tbody>\n",
       "    <tr>\n",
       "      <th>Bailey High School</th>\n",
       "      <td>Government</td>\n",
       "      <td>4976</td>\n",
       "      <td>628.0</td>\n",
       "      <td>628.0</td>\n",
       "      <td>72.352894</td>\n",
       "      <td>71.008842</td>\n",
       "      <td>0.552251</td>\n",
       "      <td>0.524518</td>\n",
       "      <td>261492.426883</td>\n",
       "    </tr>\n",
       "    <tr>\n",
       "      <th>Cabrera High School</th>\n",
       "      <td>Independent</td>\n",
       "      <td>1858</td>\n",
       "      <td>582.0</td>\n",
       "      <td>582.0</td>\n",
       "      <td>71.657158</td>\n",
       "      <td>71.359526</td>\n",
       "      <td>0.531755</td>\n",
       "      <td>0.532831</td>\n",
       "      <td>261492.426883</td>\n",
       "    </tr>\n",
       "    <tr>\n",
       "      <th>Figueroa High School</th>\n",
       "      <td>Government</td>\n",
       "      <td>2949</td>\n",
       "      <td>639.0</td>\n",
       "      <td>639.0</td>\n",
       "      <td>68.698542</td>\n",
       "      <td>69.077993</td>\n",
       "      <td>0.476772</td>\n",
       "      <td>0.491692</td>\n",
       "      <td>261492.426883</td>\n",
       "    </tr>\n",
       "    <tr>\n",
       "      <th>Ford High School</th>\n",
       "      <td>Government</td>\n",
       "      <td>2739</td>\n",
       "      <td>644.0</td>\n",
       "      <td>644.0</td>\n",
       "      <td>69.091274</td>\n",
       "      <td>69.572472</td>\n",
       "      <td>0.489595</td>\n",
       "      <td>0.504929</td>\n",
       "      <td>261492.426883</td>\n",
       "    </tr>\n",
       "    <tr>\n",
       "      <th>Griffin High School</th>\n",
       "      <td>Independent</td>\n",
       "      <td>1468</td>\n",
       "      <td>625.0</td>\n",
       "      <td>625.0</td>\n",
       "      <td>71.788147</td>\n",
       "      <td>71.245232</td>\n",
       "      <td>0.547003</td>\n",
       "      <td>0.541553</td>\n",
       "      <td>261492.426883</td>\n",
       "    </tr>\n",
       "    <tr>\n",
       "      <th>Hernandez High School</th>\n",
       "      <td>Government</td>\n",
       "      <td>4635</td>\n",
       "      <td>652.0</td>\n",
       "      <td>652.0</td>\n",
       "      <td>68.874865</td>\n",
       "      <td>69.186408</td>\n",
       "      <td>0.492557</td>\n",
       "      <td>0.494714</td>\n",
       "      <td>261492.426883</td>\n",
       "    </tr>\n",
       "    <tr>\n",
       "      <th>Holden High School</th>\n",
       "      <td>Independent</td>\n",
       "      <td>427</td>\n",
       "      <td>581.0</td>\n",
       "      <td>581.0</td>\n",
       "      <td>72.583138</td>\n",
       "      <td>71.660422</td>\n",
       "      <td>0.571429</td>\n",
       "      <td>0.555035</td>\n",
       "      <td>261492.426883</td>\n",
       "    </tr>\n",
       "    <tr>\n",
       "      <th>Huang High School</th>\n",
       "      <td>Government</td>\n",
       "      <td>2917</td>\n",
       "      <td>655.0</td>\n",
       "      <td>655.0</td>\n",
       "      <td>68.935207</td>\n",
       "      <td>68.910525</td>\n",
       "      <td>0.489201</td>\n",
       "      <td>0.497772</td>\n",
       "      <td>261492.426883</td>\n",
       "    </tr>\n",
       "    <tr>\n",
       "      <th>Johnson High School</th>\n",
       "      <td>Government</td>\n",
       "      <td>4761</td>\n",
       "      <td>650.0</td>\n",
       "      <td>650.0</td>\n",
       "      <td>68.843100</td>\n",
       "      <td>69.039277</td>\n",
       "      <td>0.487713</td>\n",
       "      <td>0.486032</td>\n",
       "      <td>261492.426883</td>\n",
       "    </tr>\n",
       "    <tr>\n",
       "      <th>Pena High School</th>\n",
       "      <td>Independent</td>\n",
       "      <td>962</td>\n",
       "      <td>609.0</td>\n",
       "      <td>609.0</td>\n",
       "      <td>72.088358</td>\n",
       "      <td>71.613306</td>\n",
       "      <td>0.554054</td>\n",
       "      <td>0.550936</td>\n",
       "      <td>261492.426883</td>\n",
       "    </tr>\n",
       "    <tr>\n",
       "      <th>Rodriguez High School</th>\n",
       "      <td>Government</td>\n",
       "      <td>3999</td>\n",
       "      <td>637.0</td>\n",
       "      <td>637.0</td>\n",
       "      <td>72.047762</td>\n",
       "      <td>70.935984</td>\n",
       "      <td>0.545136</td>\n",
       "      <td>0.527882</td>\n",
       "      <td>261492.426883</td>\n",
       "    </tr>\n",
       "    <tr>\n",
       "      <th>Shelton High School</th>\n",
       "      <td>Independent</td>\n",
       "      <td>1761</td>\n",
       "      <td>600.0</td>\n",
       "      <td>600.0</td>\n",
       "      <td>72.034072</td>\n",
       "      <td>70.257808</td>\n",
       "      <td>0.549688</td>\n",
       "      <td>0.492902</td>\n",
       "      <td>261492.426883</td>\n",
       "    </tr>\n",
       "    <tr>\n",
       "      <th>Thomas High School</th>\n",
       "      <td>Independent</td>\n",
       "      <td>1635</td>\n",
       "      <td>638.0</td>\n",
       "      <td>638.0</td>\n",
       "      <td>69.581651</td>\n",
       "      <td>69.768807</td>\n",
       "      <td>0.493578</td>\n",
       "      <td>0.507034</td>\n",
       "      <td>261492.426883</td>\n",
       "    </tr>\n",
       "    <tr>\n",
       "      <th>Wilson High School</th>\n",
       "      <td>Independent</td>\n",
       "      <td>2283</td>\n",
       "      <td>578.0</td>\n",
       "      <td>578.0</td>\n",
       "      <td>69.170828</td>\n",
       "      <td>68.876916</td>\n",
       "      <td>0.493649</td>\n",
       "      <td>0.483136</td>\n",
       "      <td>261492.426883</td>\n",
       "    </tr>\n",
       "    <tr>\n",
       "      <th>Wright High School</th>\n",
       "      <td>Independent</td>\n",
       "      <td>1800</td>\n",
       "      <td>583.0</td>\n",
       "      <td>583.0</td>\n",
       "      <td>72.047222</td>\n",
       "      <td>70.969444</td>\n",
       "      <td>0.544444</td>\n",
       "      <td>0.521667</td>\n",
       "      <td>261492.426883</td>\n",
       "    </tr>\n",
       "  </tbody>\n",
       "</table>\n",
       "</div>"
      ],
      "text/plain": [
       "                       School Type  Total Students  Total Budget  \\\n",
       "school_name                                                        \n",
       "Bailey High School      Government            4976         628.0   \n",
       "Cabrera High School    Independent            1858         582.0   \n",
       "Figueroa High School    Government            2949         639.0   \n",
       "Ford High School        Government            2739         644.0   \n",
       "Griffin High School    Independent            1468         625.0   \n",
       "Hernandez High School   Government            4635         652.0   \n",
       "Holden High School     Independent             427         581.0   \n",
       "Huang High School       Government            2917         655.0   \n",
       "Johnson High School     Government            4761         650.0   \n",
       "Pena High School       Independent             962         609.0   \n",
       "Rodriguez High School   Government            3999         637.0   \n",
       "Shelton High School    Independent            1761         600.0   \n",
       "Thomas High School     Independent            1635         638.0   \n",
       "Wilson High School     Independent            2283         578.0   \n",
       "Wright High School     Independent            1800         583.0   \n",
       "\n",
       "                       Toal Budget Per Student  Average Math Score  \\\n",
       "school_name                                                          \n",
       "Bailey High School                       628.0           72.352894   \n",
       "Cabrera High School                      582.0           71.657158   \n",
       "Figueroa High School                     639.0           68.698542   \n",
       "Ford High School                         644.0           69.091274   \n",
       "Griffin High School                      625.0           71.788147   \n",
       "Hernandez High School                    652.0           68.874865   \n",
       "Holden High School                       581.0           72.583138   \n",
       "Huang High School                        655.0           68.935207   \n",
       "Johnson High School                      650.0           68.843100   \n",
       "Pena High School                         609.0           72.088358   \n",
       "Rodriguez High School                    637.0           72.047762   \n",
       "Shelton High School                      600.0           72.034072   \n",
       "Thomas High School                       638.0           69.581651   \n",
       "Wilson High School                       578.0           69.170828   \n",
       "Wright High School                       583.0           72.047222   \n",
       "\n",
       "                       Average Reading Score  % Passing Math  \\\n",
       "school_name                                                    \n",
       "Bailey High School                 71.008842        0.552251   \n",
       "Cabrera High School                71.359526        0.531755   \n",
       "Figueroa High School               69.077993        0.476772   \n",
       "Ford High School                   69.572472        0.489595   \n",
       "Griffin High School                71.245232        0.547003   \n",
       "Hernandez High School              69.186408        0.492557   \n",
       "Holden High School                 71.660422        0.571429   \n",
       "Huang High School                  68.910525        0.489201   \n",
       "Johnson High School                69.039277        0.487713   \n",
       "Pena High School                   71.613306        0.554054   \n",
       "Rodriguez High School              70.935984        0.545136   \n",
       "Shelton High School                70.257808        0.549688   \n",
       "Thomas High School                 69.768807        0.493578   \n",
       "Wilson High School                 68.876916        0.493649   \n",
       "Wright High School                 70.969444        0.544444   \n",
       "\n",
       "                       % Passing Reading  % Overall Passing  \n",
       "school_name                                                  \n",
       "Bailey High School              0.524518      261492.426883  \n",
       "Cabrera High School             0.532831      261492.426883  \n",
       "Figueroa High School            0.491692      261492.426883  \n",
       "Ford High School                0.504929      261492.426883  \n",
       "Griffin High School             0.541553      261492.426883  \n",
       "Hernandez High School           0.494714      261492.426883  \n",
       "Holden High School              0.555035      261492.426883  \n",
       "Huang High School               0.497772      261492.426883  \n",
       "Johnson High School             0.486032      261492.426883  \n",
       "Pena High School                0.550936      261492.426883  \n",
       "Rodriguez High School           0.527882      261492.426883  \n",
       "Shelton High School             0.492902      261492.426883  \n",
       "Thomas High School              0.507034      261492.426883  \n",
       "Wilson High School              0.483136      261492.426883  \n",
       "Wright High School              0.521667      261492.426883  "
      ]
     },
     "execution_count": 39,
     "metadata": {},
     "output_type": "execute_result"
    }
   ],
   "source": [
    "# create data frame                                                       # refer to  GoodReadsSummary.ipynb \n",
    "school_summary = pd.DataFrame({\n",
    "                \"School Type\": grouped_schools_type,\n",
    "                \"Total Students\": grouped_schools_total_students,\n",
    "                \"Total Budget\": grouped_schools_per_student_budget,\n",
    "                \"Toal Budget Per Student\": grouped_schools_per_student_budget,\n",
    "                \"Average Math Score\": grouped_schools_ave_math,\n",
    "                \"Average Reading Score\": grouped_schools_ave_reading,\n",
    "                \"% Passing Math\": grouped_schools_percent_pass_math,\n",
    "                \"% Passing Reading\": grouped_schools_percent_pass_reading,\n",
    "                \"% Overall Passing\": grouped_schools_percent_pass_overall})\n",
    "\n",
    "school_summary"
   ]
  },
  {
   "attachments": {},
   "cell_type": "markdown",
   "metadata": {},
   "source": [
    "Top Performing School by % overall Passing"
   ]
  },
  {
   "cell_type": "code",
   "execution_count": 40,
   "metadata": {},
   "outputs": [
    {
     "data": {
      "text/html": [
       "<div>\n",
       "<style scoped>\n",
       "    .dataframe tbody tr th:only-of-type {\n",
       "        vertical-align: middle;\n",
       "    }\n",
       "\n",
       "    .dataframe tbody tr th {\n",
       "        vertical-align: top;\n",
       "    }\n",
       "\n",
       "    .dataframe thead th {\n",
       "        text-align: right;\n",
       "    }\n",
       "</style>\n",
       "<table border=\"1\" class=\"dataframe\">\n",
       "  <thead>\n",
       "    <tr style=\"text-align: right;\">\n",
       "      <th></th>\n",
       "      <th>School Type</th>\n",
       "      <th>Total Students</th>\n",
       "      <th>Total Budget</th>\n",
       "      <th>Toal Budget Per Student</th>\n",
       "      <th>Average Math Score</th>\n",
       "      <th>Average Reading Score</th>\n",
       "      <th>% Passing Math</th>\n",
       "      <th>% Passing Reading</th>\n",
       "      <th>% Overall Passing</th>\n",
       "    </tr>\n",
       "    <tr>\n",
       "      <th>school_name</th>\n",
       "      <th></th>\n",
       "      <th></th>\n",
       "      <th></th>\n",
       "      <th></th>\n",
       "      <th></th>\n",
       "      <th></th>\n",
       "      <th></th>\n",
       "      <th></th>\n",
       "      <th></th>\n",
       "    </tr>\n",
       "  </thead>\n",
       "  <tbody>\n",
       "    <tr>\n",
       "      <th>Bailey High School</th>\n",
       "      <td>Government</td>\n",
       "      <td>4976</td>\n",
       "      <td>628.0</td>\n",
       "      <td>628.0</td>\n",
       "      <td>72.352894</td>\n",
       "      <td>71.008842</td>\n",
       "      <td>0.552251</td>\n",
       "      <td>0.524518</td>\n",
       "      <td>261492.426883</td>\n",
       "    </tr>\n",
       "    <tr>\n",
       "      <th>Cabrera High School</th>\n",
       "      <td>Independent</td>\n",
       "      <td>1858</td>\n",
       "      <td>582.0</td>\n",
       "      <td>582.0</td>\n",
       "      <td>71.657158</td>\n",
       "      <td>71.359526</td>\n",
       "      <td>0.531755</td>\n",
       "      <td>0.532831</td>\n",
       "      <td>261492.426883</td>\n",
       "    </tr>\n",
       "    <tr>\n",
       "      <th>Figueroa High School</th>\n",
       "      <td>Government</td>\n",
       "      <td>2949</td>\n",
       "      <td>639.0</td>\n",
       "      <td>639.0</td>\n",
       "      <td>68.698542</td>\n",
       "      <td>69.077993</td>\n",
       "      <td>0.476772</td>\n",
       "      <td>0.491692</td>\n",
       "      <td>261492.426883</td>\n",
       "    </tr>\n",
       "    <tr>\n",
       "      <th>Ford High School</th>\n",
       "      <td>Government</td>\n",
       "      <td>2739</td>\n",
       "      <td>644.0</td>\n",
       "      <td>644.0</td>\n",
       "      <td>69.091274</td>\n",
       "      <td>69.572472</td>\n",
       "      <td>0.489595</td>\n",
       "      <td>0.504929</td>\n",
       "      <td>261492.426883</td>\n",
       "    </tr>\n",
       "    <tr>\n",
       "      <th>Griffin High School</th>\n",
       "      <td>Independent</td>\n",
       "      <td>1468</td>\n",
       "      <td>625.0</td>\n",
       "      <td>625.0</td>\n",
       "      <td>71.788147</td>\n",
       "      <td>71.245232</td>\n",
       "      <td>0.547003</td>\n",
       "      <td>0.541553</td>\n",
       "      <td>261492.426883</td>\n",
       "    </tr>\n",
       "  </tbody>\n",
       "</table>\n",
       "</div>"
      ],
      "text/plain": [
       "                      School Type  Total Students  Total Budget  \\\n",
       "school_name                                                       \n",
       "Bailey High School     Government            4976         628.0   \n",
       "Cabrera High School   Independent            1858         582.0   \n",
       "Figueroa High School   Government            2949         639.0   \n",
       "Ford High School       Government            2739         644.0   \n",
       "Griffin High School   Independent            1468         625.0   \n",
       "\n",
       "                      Toal Budget Per Student  Average Math Score  \\\n",
       "school_name                                                         \n",
       "Bailey High School                      628.0           72.352894   \n",
       "Cabrera High School                     582.0           71.657158   \n",
       "Figueroa High School                    639.0           68.698542   \n",
       "Ford High School                        644.0           69.091274   \n",
       "Griffin High School                     625.0           71.788147   \n",
       "\n",
       "                      Average Reading Score  % Passing Math  \\\n",
       "school_name                                                   \n",
       "Bailey High School                71.008842        0.552251   \n",
       "Cabrera High School               71.359526        0.531755   \n",
       "Figueroa High School              69.077993        0.476772   \n",
       "Ford High School                  69.572472        0.489595   \n",
       "Griffin High School               71.245232        0.547003   \n",
       "\n",
       "                      % Passing Reading  % Overall Passing  \n",
       "school_name                                                 \n",
       "Bailey High School             0.524518      261492.426883  \n",
       "Cabrera High School            0.532831      261492.426883  \n",
       "Figueroa High School           0.491692      261492.426883  \n",
       "Ford High School               0.504929      261492.426883  \n",
       "Griffin High School            0.541553      261492.426883  "
      ]
     },
     "execution_count": 40,
     "metadata": {},
     "output_type": "execute_result"
    }
   ],
   "source": [
    "# Sort and display the top five performing schools by % overall passing\n",
    "top_performing_schools_df = school_summary.sort_values(\"% Overall Passing\", ascending=[False])\n",
    "top_performing_schools_df.head()"
   ]
  },
  {
   "attachments": {},
   "cell_type": "markdown",
   "metadata": {},
   "source": [
    "Buttom performing Scholl by % Overall Passing"
   ]
  },
  {
   "cell_type": "code",
   "execution_count": 41,
   "metadata": {},
   "outputs": [
    {
     "data": {
      "text/html": [
       "<div>\n",
       "<style scoped>\n",
       "    .dataframe tbody tr th:only-of-type {\n",
       "        vertical-align: middle;\n",
       "    }\n",
       "\n",
       "    .dataframe tbody tr th {\n",
       "        vertical-align: top;\n",
       "    }\n",
       "\n",
       "    .dataframe thead th {\n",
       "        text-align: right;\n",
       "    }\n",
       "</style>\n",
       "<table border=\"1\" class=\"dataframe\">\n",
       "  <thead>\n",
       "    <tr style=\"text-align: right;\">\n",
       "      <th></th>\n",
       "      <th>School Type</th>\n",
       "      <th>Total Students</th>\n",
       "      <th>Total Budget</th>\n",
       "      <th>Toal Budget Per Student</th>\n",
       "      <th>Average Math Score</th>\n",
       "      <th>Average Reading Score</th>\n",
       "      <th>% Passing Math</th>\n",
       "      <th>% Passing Reading</th>\n",
       "      <th>% Overall Passing</th>\n",
       "    </tr>\n",
       "    <tr>\n",
       "      <th>school_name</th>\n",
       "      <th></th>\n",
       "      <th></th>\n",
       "      <th></th>\n",
       "      <th></th>\n",
       "      <th></th>\n",
       "      <th></th>\n",
       "      <th></th>\n",
       "      <th></th>\n",
       "      <th></th>\n",
       "    </tr>\n",
       "  </thead>\n",
       "  <tbody>\n",
       "    <tr>\n",
       "      <th>Bailey High School</th>\n",
       "      <td>Government</td>\n",
       "      <td>4976</td>\n",
       "      <td>628.0</td>\n",
       "      <td>628.0</td>\n",
       "      <td>72.352894</td>\n",
       "      <td>71.008842</td>\n",
       "      <td>0.552251</td>\n",
       "      <td>0.524518</td>\n",
       "      <td>261492.426883</td>\n",
       "    </tr>\n",
       "    <tr>\n",
       "      <th>Cabrera High School</th>\n",
       "      <td>Independent</td>\n",
       "      <td>1858</td>\n",
       "      <td>582.0</td>\n",
       "      <td>582.0</td>\n",
       "      <td>71.657158</td>\n",
       "      <td>71.359526</td>\n",
       "      <td>0.531755</td>\n",
       "      <td>0.532831</td>\n",
       "      <td>261492.426883</td>\n",
       "    </tr>\n",
       "    <tr>\n",
       "      <th>Figueroa High School</th>\n",
       "      <td>Government</td>\n",
       "      <td>2949</td>\n",
       "      <td>639.0</td>\n",
       "      <td>639.0</td>\n",
       "      <td>68.698542</td>\n",
       "      <td>69.077993</td>\n",
       "      <td>0.476772</td>\n",
       "      <td>0.491692</td>\n",
       "      <td>261492.426883</td>\n",
       "    </tr>\n",
       "    <tr>\n",
       "      <th>Ford High School</th>\n",
       "      <td>Government</td>\n",
       "      <td>2739</td>\n",
       "      <td>644.0</td>\n",
       "      <td>644.0</td>\n",
       "      <td>69.091274</td>\n",
       "      <td>69.572472</td>\n",
       "      <td>0.489595</td>\n",
       "      <td>0.504929</td>\n",
       "      <td>261492.426883</td>\n",
       "    </tr>\n",
       "    <tr>\n",
       "      <th>Griffin High School</th>\n",
       "      <td>Independent</td>\n",
       "      <td>1468</td>\n",
       "      <td>625.0</td>\n",
       "      <td>625.0</td>\n",
       "      <td>71.788147</td>\n",
       "      <td>71.245232</td>\n",
       "      <td>0.547003</td>\n",
       "      <td>0.541553</td>\n",
       "      <td>261492.426883</td>\n",
       "    </tr>\n",
       "  </tbody>\n",
       "</table>\n",
       "</div>"
      ],
      "text/plain": [
       "                      School Type  Total Students  Total Budget  \\\n",
       "school_name                                                       \n",
       "Bailey High School     Government            4976         628.0   \n",
       "Cabrera High School   Independent            1858         582.0   \n",
       "Figueroa High School   Government            2949         639.0   \n",
       "Ford High School       Government            2739         644.0   \n",
       "Griffin High School   Independent            1468         625.0   \n",
       "\n",
       "                      Toal Budget Per Student  Average Math Score  \\\n",
       "school_name                                                         \n",
       "Bailey High School                      628.0           72.352894   \n",
       "Cabrera High School                     582.0           71.657158   \n",
       "Figueroa High School                    639.0           68.698542   \n",
       "Ford High School                        644.0           69.091274   \n",
       "Griffin High School                     625.0           71.788147   \n",
       "\n",
       "                      Average Reading Score  % Passing Math  \\\n",
       "school_name                                                   \n",
       "Bailey High School                71.008842        0.552251   \n",
       "Cabrera High School               71.359526        0.531755   \n",
       "Figueroa High School              69.077993        0.476772   \n",
       "Ford High School                  69.572472        0.489595   \n",
       "Griffin High School               71.245232        0.547003   \n",
       "\n",
       "                      % Passing Reading  % Overall Passing  \n",
       "school_name                                                 \n",
       "Bailey High School             0.524518      261492.426883  \n",
       "Cabrera High School            0.532831      261492.426883  \n",
       "Figueroa High School           0.491692      261492.426883  \n",
       "Ford High School               0.504929      261492.426883  \n",
       "Griffin High School            0.541553      261492.426883  "
      ]
     },
     "execution_count": 41,
     "metadata": {},
     "output_type": "execute_result"
    }
   ],
   "source": [
    "# sort_values()\n",
    "# Sort and display the bottom five performing schools by % overall passing\n",
    "top_performing_schools_df = school_summary.sort_values(\"% Overall Passing\", ascending=[True])\n",
    "top_performing_schools_df.head()"
   ]
  },
  {
   "attachments": {},
   "cell_type": "markdown",
   "metadata": {},
   "source": [
    "Reading Score By Grade"
   ]
  },
  {
   "cell_type": "code",
   "execution_count": 42,
   "metadata": {},
   "outputs": [],
   "source": [
    "# Create a pandas series for each grade\n",
    "# nine = student_data.loc[student_data[\"grade\"] == '9th']\n",
    "# ten = student_data.loc[student_data[\"grade\"] == '10th']\n",
    "# eleven = student_data.loc[student_data[\"grade\"] == '11th']\n",
    "# twelve = student_data.loc[student_data[\"grade\"] == '12th'] "
   ]
  },
  {
   "cell_type": "code",
   "execution_count": 45,
   "metadata": {
    "vscode": {
     "languageId": "ruby"
    }
   },
   "outputs": [
    {
     "ename": "NameError",
     "evalue": "name 'nine' is not defined",
     "output_type": "error",
     "traceback": [
      "\u001b[1;31m---------------------------------------------------------------------------\u001b[0m",
      "\u001b[1;31mNameError\u001b[0m                                 Traceback (most recent call last)",
      "\u001b[1;32m~\\AppData\\Local\\Temp\\ipykernel_18024\\3972301938.py\u001b[0m in \u001b[0;36m<module>\u001b[1;34m\u001b[0m\n\u001b[0;32m      1\u001b[0m \u001b[1;31m# group by school\u001b[0m\u001b[1;33m\u001b[0m\u001b[1;33m\u001b[0m\u001b[0m\n\u001b[1;32m----> 2\u001b[1;33m \u001b[0mnine_read_group\u001b[0m \u001b[1;33m=\u001b[0m \u001b[0mnine\u001b[0m\u001b[1;33m.\u001b[0m\u001b[0mgroupby\u001b[0m\u001b[1;33m(\u001b[0m\u001b[1;34m\"school_name\"\u001b[0m\u001b[1;33m)\u001b[0m\u001b[1;33m[\u001b[0m\u001b[1;34m\"reading_score\"\u001b[0m\u001b[1;33m]\u001b[0m\u001b[1;33m.\u001b[0m\u001b[0mmean\u001b[0m\u001b[1;33m(\u001b[0m\u001b[1;33m)\u001b[0m\u001b[1;33m\u001b[0m\u001b[1;33m\u001b[0m\u001b[0m\n\u001b[0m\u001b[0;32m      3\u001b[0m \u001b[0mten_read_group\u001b[0m \u001b[1;33m=\u001b[0m \u001b[0mten\u001b[0m\u001b[1;33m.\u001b[0m\u001b[0mgroupby\u001b[0m\u001b[1;33m(\u001b[0m\u001b[1;34m\"school_name\"\u001b[0m\u001b[1;33m)\u001b[0m\u001b[1;33m[\u001b[0m\u001b[1;34m\"reading_score\"\u001b[0m\u001b[1;33m]\u001b[0m\u001b[1;33m.\u001b[0m\u001b[0mmean\u001b[0m\u001b[1;33m(\u001b[0m\u001b[1;33m)\u001b[0m\u001b[1;33m\u001b[0m\u001b[1;33m\u001b[0m\u001b[0m\n\u001b[0;32m      4\u001b[0m \u001b[0meleven_read_group\u001b[0m \u001b[1;33m=\u001b[0m \u001b[0meleven\u001b[0m\u001b[1;33m.\u001b[0m\u001b[0mgroupby\u001b[0m\u001b[1;33m(\u001b[0m\u001b[1;34m\"school_name\"\u001b[0m\u001b[1;33m)\u001b[0m\u001b[1;33m[\u001b[0m\u001b[1;34m\"reading_score\"\u001b[0m\u001b[1;33m]\u001b[0m\u001b[1;33m.\u001b[0m\u001b[0mmean\u001b[0m\u001b[1;33m(\u001b[0m\u001b[1;33m)\u001b[0m\u001b[1;33m\u001b[0m\u001b[1;33m\u001b[0m\u001b[0m\n\u001b[0;32m      5\u001b[0m \u001b[0mtwelve_read_group\u001b[0m \u001b[1;33m=\u001b[0m \u001b[0mtwelve\u001b[0m\u001b[1;33m.\u001b[0m\u001b[0mgroupby\u001b[0m\u001b[1;33m(\u001b[0m\u001b[1;34m\"school_name\"\u001b[0m\u001b[1;33m)\u001b[0m\u001b[1;33m[\u001b[0m\u001b[1;34m\"reading_score\"\u001b[0m\u001b[1;33m]\u001b[0m\u001b[1;33m.\u001b[0m\u001b[0mmean\u001b[0m\u001b[1;33m(\u001b[0m\u001b[1;33m)\u001b[0m\u001b[1;33m\u001b[0m\u001b[1;33m\u001b[0m\u001b[0m\n",
      "\u001b[1;31mNameError\u001b[0m: name 'nine' is not defined"
     ]
    }
   ],
   "source": [
    "# group by school\n",
    "nine_read_group = nine.groupby(\"school_name\")[\"reading_score\"].mean()\n",
    "ten_read_group = ten.groupby(\"school_name\")[\"reading_score\"].mean()\n",
    "eleven_read_group = eleven.groupby(\"school_name\")[\"reading_score\"].mean()\n",
    "twelve_read_group = twelve.groupby(\"school_name\")[\"reading_score\"].mean()"
   ]
  },
  {
   "cell_type": "code",
   "execution_count": 44,
   "metadata": {},
   "outputs": [
    {
     "ename": "NameError",
     "evalue": "name 'nine_read_group' is not defined",
     "output_type": "error",
     "traceback": [
      "\u001b[1;31m---------------------------------------------------------------------------\u001b[0m",
      "\u001b[1;31mNameError\u001b[0m                                 Traceback (most recent call last)",
      "\u001b[1;32m~\\AppData\\Local\\Temp\\ipykernel_18024\\2792253603.py\u001b[0m in \u001b[0;36m<module>\u001b[1;34m\u001b[0m\n\u001b[0;32m      1\u001b[0m \u001b[1;31m# create df\u001b[0m\u001b[1;33m\u001b[0m\u001b[1;33m\u001b[0m\u001b[0m\n\u001b[1;32m----> 2\u001b[1;33m reading_scores = pd.DataFrame({\"9th\": nine_read_group, \n\u001b[0m\u001b[0;32m      3\u001b[0m                             \u001b[1;34m\"10th\"\u001b[0m\u001b[1;33m:\u001b[0m \u001b[0mten_read_group\u001b[0m\u001b[1;33m,\u001b[0m\u001b[1;33m\u001b[0m\u001b[1;33m\u001b[0m\u001b[0m\n\u001b[0;32m      4\u001b[0m                             \u001b[1;34m\"11th\"\u001b[0m\u001b[1;33m:\u001b[0m \u001b[0meleven_read_group\u001b[0m\u001b[1;33m,\u001b[0m\u001b[1;33m\u001b[0m\u001b[1;33m\u001b[0m\u001b[0m\n\u001b[0;32m      5\u001b[0m                             \"12th\": twelve_read_group})\n",
      "\u001b[1;31mNameError\u001b[0m: name 'nine_read_group' is not defined"
     ]
    }
   ],
   "source": [
    "# create df\n",
    "reading_scores = pd.DataFrame({\"9th\": nine_read_group, \n",
    "                            \"10th\": ten_read_group, \n",
    "                            \"11th\": eleven_read_group, \n",
    "                            \"12th\": twelve_read_group})\n",
    "\n",
    "reading_scores"
   ]
  },
  {
   "attachments": {},
   "cell_type": "markdown",
   "metadata": {},
   "source": [
    "Score By School Spending"
   ]
  },
  {
   "cell_type": "code",
   "execution_count": null,
   "metadata": {},
   "outputs": [],
   "source": [
    "school_summary = pd.DataFrame({\n",
    "                \"School Type\": grouped_schools_type,\n",
    "                \"Total Students\": grouped_schools_total_students,\n",
    "                \"Total Budget\": grouped_schools_per_student_budget,\n",
    "                \"Total Budget Per Student\": grouped_schools_per_student_budget,\n",
    "                \"Average Math Score\": grouped_schools_ave_math,\n",
    "                \"Average Reading Score\": grouped_schools_ave_reading,\n",
    "                \"% Passing Math\": grouped_schools_percent_pass_math,\n",
    "                \"% Passing Reading\": grouped_schools_percent_pass_reading,\n",
    "                \"% Overall Passing\": grouped_schools_percent_pass_overall})\n",
    "                         \n",
    "# # use school_summary dataframe per LinLin\n",
    "# # school_summary.dtypes"
   ]
  },
  {
   "cell_type": "code",
   "execution_count": null,
   "metadata": {},
   "outputs": [],
   "source": [
    "# create bins and labels    \n",
    "bins = [0, 585, 630, 645, 680]\n",
    "group_labels = ['<$585', '$585-630', '$630-645', '$645-680']"
   ]
  },
  {
   "cell_type": "code",
   "execution_count": null,
   "metadata": {},
   "outputs": [],
   "source": [
    "# Slice the data and place it into bins\n",
    "school_summary[\"Spending Ranges\"] = pd.cut(school_summary[\"Total Budget Per Student\"], bins, labels=group_labels)"
   ]
  },
  {
   "cell_type": "code",
   "execution_count": null,
   "metadata": {},
   "outputs": [],
   "source": [
    "# Slice the data and place it into bins\n",
    "school_summary[\"Spending Ranges\"] = pd.cut(school_summary[\"Total Budget Per Student\"], bins, labels=group_labels)"
   ]
  },
  {
   "cell_type": "code",
   "execution_count": null,
   "metadata": {},
   "outputs": [],
   "source": [
    "# remove unecessary columms by identifying the ones keep\n",
    "\n",
    "#del school_spending_summary['Total Students']\n",
    "\n",
    "# school_spending_summary = school_spending_summary(columns={\"Average Math Score\": \"ave_math\",\n",
    "#                                                     \"Average Reading Score\": \"ave_reading\",                                                      \n",
    "#                                                     \"% Passing Math\": \"grouped_schools_percent_pass_math\",\n",
    "#                                                      \"% Passing Reading\": \"grouped_schools_percent_pass_reading\",\n",
    "#                                                       \"% Overall Passing\": \"grouped_schools_percent_pass_overall\" })\n",
    "# school_spending_summary"
   ]
  },
  {
   "attachments": {},
   "cell_type": "markdown",
   "metadata": {},
   "source": [
    "Score By School Size"
   ]
  },
  {
   "cell_type": "code",
   "execution_count": null,
   "metadata": {},
   "outputs": [],
   "source": [
    "# create bins and labels    \n",
    "bins = [0, 1000, 2000, 5000]\n",
    "group_labels = ['Small (<1000)', 'Medium (1000-2000)', 'Large (2000-5000)']"
   ]
  },
  {
   "cell_type": "code",
   "execution_count": null,
   "metadata": {},
   "outputs": [],
   "source": [
    "# Slice the data and place it into bins  \n",
    "school_summary[\"School Size\"] = pd.cut(school_summary['Total Students'], bins=bins,labels=group_labels)"
   ]
  },
  {
   "cell_type": "code",
   "execution_count": null,
   "metadata": {},
   "outputs": [
    {
     "data": {
      "text/html": [
       "<div>\n",
       "<style scoped>\n",
       "    .dataframe tbody tr th:only-of-type {\n",
       "        vertical-align: middle;\n",
       "    }\n",
       "\n",
       "    .dataframe tbody tr th {\n",
       "        vertical-align: top;\n",
       "    }\n",
       "\n",
       "    .dataframe thead th {\n",
       "        text-align: right;\n",
       "    }\n",
       "</style>\n",
       "<table border=\"1\" class=\"dataframe\">\n",
       "  <thead>\n",
       "    <tr style=\"text-align: right;\">\n",
       "      <th></th>\n",
       "      <th>% Overall Passing</th>\n",
       "      <th>% Passing Math</th>\n",
       "      <th>% Passing Reading</th>\n",
       "      <th>Average Math Score</th>\n",
       "      <th>Average Reading Score</th>\n",
       "      <th>Total Budget</th>\n",
       "      <th>Total Budget Per Student</th>\n",
       "    </tr>\n",
       "    <tr>\n",
       "      <th>Total Students</th>\n",
       "      <th></th>\n",
       "      <th></th>\n",
       "      <th></th>\n",
       "      <th></th>\n",
       "      <th></th>\n",
       "      <th></th>\n",
       "      <th></th>\n",
       "    </tr>\n",
       "  </thead>\n",
       "  <tbody>\n",
       "    <tr>\n",
       "      <th>427</th>\n",
       "      <td>261492.426883</td>\n",
       "      <td>0.571429</td>\n",
       "      <td>0.555035</td>\n",
       "      <td>72.583138</td>\n",
       "      <td>71.660422</td>\n",
       "      <td>581.0</td>\n",
       "      <td>581.0</td>\n",
       "    </tr>\n",
       "    <tr>\n",
       "      <th>962</th>\n",
       "      <td>261492.426883</td>\n",
       "      <td>0.554054</td>\n",
       "      <td>0.550936</td>\n",
       "      <td>72.088358</td>\n",
       "      <td>71.613306</td>\n",
       "      <td>609.0</td>\n",
       "      <td>609.0</td>\n",
       "    </tr>\n",
       "    <tr>\n",
       "      <th>1468</th>\n",
       "      <td>261492.426883</td>\n",
       "      <td>0.547003</td>\n",
       "      <td>0.541553</td>\n",
       "      <td>71.788147</td>\n",
       "      <td>71.245232</td>\n",
       "      <td>625.0</td>\n",
       "      <td>625.0</td>\n",
       "    </tr>\n",
       "    <tr>\n",
       "      <th>1635</th>\n",
       "      <td>261492.426883</td>\n",
       "      <td>0.493578</td>\n",
       "      <td>0.507034</td>\n",
       "      <td>69.581651</td>\n",
       "      <td>69.768807</td>\n",
       "      <td>638.0</td>\n",
       "      <td>638.0</td>\n",
       "    </tr>\n",
       "    <tr>\n",
       "      <th>1761</th>\n",
       "      <td>261492.426883</td>\n",
       "      <td>0.549688</td>\n",
       "      <td>0.492902</td>\n",
       "      <td>72.034072</td>\n",
       "      <td>70.257808</td>\n",
       "      <td>600.0</td>\n",
       "      <td>600.0</td>\n",
       "    </tr>\n",
       "  </tbody>\n",
       "</table>\n",
       "</div>"
      ],
      "text/plain": [
       "                % Overall Passing  % Passing Math  % Passing Reading  \\\n",
       "Total Students                                                         \n",
       "427                 261492.426883        0.571429           0.555035   \n",
       "962                 261492.426883        0.554054           0.550936   \n",
       "1468                261492.426883        0.547003           0.541553   \n",
       "1635                261492.426883        0.493578           0.507034   \n",
       "1761                261492.426883        0.549688           0.492902   \n",
       "\n",
       "                Average Math Score  Average Reading Score  Total Budget  \\\n",
       "Total Students                                                            \n",
       "427                      72.583138              71.660422         581.0   \n",
       "962                      72.088358              71.613306         609.0   \n",
       "1468                     71.788147              71.245232         625.0   \n",
       "1635                     69.581651              69.768807         638.0   \n",
       "1761                     72.034072              70.257808         600.0   \n",
       "\n",
       "                Total Budget Per Student  \n",
       "Total Students                            \n",
       "427                                581.0  \n",
       "962                                609.0  \n",
       "1468                               625.0  \n",
       "1635                               638.0  \n",
       "1761                               600.0  "
      ]
     },
     "execution_count": 39,
     "metadata": {},
     "output_type": "execute_result"
    }
   ],
   "source": [
    "# pivot table - attempt to resolve inability to groupby using school_summary dataframe that does not recognize 'Total Stuents'\n",
    "school_summary_pv = school_summary\n",
    "\n",
    "school_summary_pv = school_summary.pivot_table(index='Total Students')\n",
    "school_summary_pv.head()"
   ]
  },
  {
   "attachments": {},
   "cell_type": "markdown",
   "metadata": {},
   "source": [
    "Score By School Type"
   ]
  },
  {
   "cell_type": "code",
   "execution_count": null,
   "metadata": {},
   "outputs": [],
   "source": [
    "# copy dataframe to create Scores by School Type\n",
    "school_summary = pd.DataFrame({\n",
    "                \"School Type\": grouped_schools_type,\n",
    "                \"Total Students\": grouped_schools_total_students,\n",
    "                \"Total Budget\": grouped_schools_per_student_budget,\n",
    "                \"Total Budget Per Student\": grouped_schools_per_student_budget,\n",
    "                \"Average Math Score\": grouped_schools_ave_math,\n",
    "                \"Average Reading Score\": grouped_schools_ave_reading,\n",
    "                \"% Passing Math\": grouped_schools_percent_pass_math,\n",
    "                \"% Passing Reading\": grouped_schools_percent_pass_reading,\n",
    "                \"% Overall Passing\": grouped_schools_percent_pass_overall})\n",
    "                         \n",
    "#school_summary.dtypes"
   ]
  },
  {
   "cell_type": "code",
   "execution_count": null,
   "metadata": {},
   "outputs": [],
   "source": [
    "# school_type_summary = school_summary.loc[:, [\"Average Math Score\", \"Average Reading Score\",\n",
    "#                                      \"Percent Passing Math\", \"Percent Passing Reading\",\n",
    "#                                      \"Overall Passing Rate\"]]\n",
    "# school_type_summary"
   ]
  },
  {
   "cell_type": "code",
   "execution_count": null,
   "metadata": {},
   "outputs": [
    {
     "name": "stdout",
     "output_type": "stream",
     "text": [
      "<pandas.core.groupby.generic.DataFrameGroupBy object at 0x000001DD86CD98E0>\n"
     ]
    },
    {
     "data": {
      "text/html": [
       "<div>\n",
       "<style scoped>\n",
       "    .dataframe tbody tr th:only-of-type {\n",
       "        vertical-align: middle;\n",
       "    }\n",
       "\n",
       "    .dataframe tbody tr th {\n",
       "        vertical-align: top;\n",
       "    }\n",
       "\n",
       "    .dataframe thead th {\n",
       "        text-align: right;\n",
       "    }\n",
       "</style>\n",
       "<table border=\"1\" class=\"dataframe\">\n",
       "  <thead>\n",
       "    <tr style=\"text-align: right;\">\n",
       "      <th></th>\n",
       "      <th>Student ID</th>\n",
       "      <th>student_name</th>\n",
       "      <th>gender</th>\n",
       "      <th>year</th>\n",
       "      <th>school_name</th>\n",
       "      <th>reading_score</th>\n",
       "      <th>maths_score</th>\n",
       "      <th>School ID</th>\n",
       "      <th>size</th>\n",
       "      <th>budget</th>\n",
       "    </tr>\n",
       "    <tr>\n",
       "      <th>type</th>\n",
       "      <th></th>\n",
       "      <th></th>\n",
       "      <th></th>\n",
       "      <th></th>\n",
       "      <th></th>\n",
       "      <th></th>\n",
       "      <th></th>\n",
       "      <th></th>\n",
       "      <th></th>\n",
       "      <th></th>\n",
       "    </tr>\n",
       "  </thead>\n",
       "  <tbody>\n",
       "    <tr>\n",
       "      <th>Government</th>\n",
       "      <td>37534</td>\n",
       "      <td>Zoe Meyer</td>\n",
       "      <td>M</td>\n",
       "      <td>12</td>\n",
       "      <td>Rodriguez High School</td>\n",
       "      <td>99</td>\n",
       "      <td>99</td>\n",
       "      <td>13</td>\n",
       "      <td>4976</td>\n",
       "      <td>3124928</td>\n",
       "    </tr>\n",
       "    <tr>\n",
       "      <th>Independent</th>\n",
       "      <td>39169</td>\n",
       "      <td>Zoe Mayer</td>\n",
       "      <td>M</td>\n",
       "      <td>12</td>\n",
       "      <td>Wright High School</td>\n",
       "      <td>99</td>\n",
       "      <td>99</td>\n",
       "      <td>14</td>\n",
       "      <td>2283</td>\n",
       "      <td>1319574</td>\n",
       "    </tr>\n",
       "  </tbody>\n",
       "</table>\n",
       "</div>"
      ],
      "text/plain": [
       "             Student ID student_name gender  year            school_name  \\\n",
       "type                                                                       \n",
       "Government        37534    Zoe Meyer      M    12  Rodriguez High School   \n",
       "Independent       39169    Zoe Mayer      M    12     Wright High School   \n",
       "\n",
       "             reading_score  maths_score  School ID  size   budget  \n",
       "type                                                               \n",
       "Government              99           99         13  4976  3124928  \n",
       "Independent             99           99         14  2283  1319574  "
      ]
     },
     "execution_count": 42,
     "metadata": {},
     "output_type": "execute_result"
    }
   ],
   "source": [
    "# group by type of school\n",
    "groupby_type = school_data_complete.groupby(\"type\")\n",
    "print(groupby_type)\n",
    "groupby_type.max()"
   ]
  },
  {
   "cell_type": "code",
   "execution_count": null,
   "metadata": {},
   "outputs": [],
   "source": []
  }
 ],
 "metadata": {
  "kernelspec": {
   "display_name": "base",
   "language": "python",
   "name": "python3"
  },
  "language_info": {
   "codemirror_mode": {
    "name": "ipython",
    "version": 3
   },
   "file_extension": ".py",
   "mimetype": "text/x-python",
   "name": "python",
   "nbconvert_exporter": "python",
   "pygments_lexer": "ipython3",
   "version": "3.9.13"
  },
  "orig_nbformat": 4
 },
 "nbformat": 4,
 "nbformat_minor": 2
}
